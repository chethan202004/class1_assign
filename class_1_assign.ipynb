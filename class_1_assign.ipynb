{
  "nbformat": 4,
  "nbformat_minor": 0,
  "metadata": {
    "colab": {
      "provenance": [],
      "authorship_tag": "ABX9TyMrG63eh039hTieNV0RHYRu",
      "include_colab_link": true
    },
    "kernelspec": {
      "name": "python3",
      "display_name": "Python 3"
    },
    "language_info": {
      "name": "python"
    }
  },
  "cells": [
    {
      "cell_type": "markdown",
      "metadata": {
        "id": "view-in-github",
        "colab_type": "text"
      },
      "source": [
        "<a href=\"https://colab.research.google.com/github/chethan202004/class1_assign/blob/main/class_1_assign.ipynb\" target=\"_parent\"><img src=\"https://colab.research.google.com/assets/colab-badge.svg\" alt=\"Open In Colab\"/></a>"
      ]
    },
    {
      "cell_type": "code",
      "execution_count": 1,
      "metadata": {
        "colab": {
          "base_uri": "https://localhost:8080/"
        },
        "id": "77VMQa6qbIQ4",
        "outputId": "d0602bc4-d331-4069-ac76-7e38f8a8bac9"
      },
      "outputs": [
        {
          "output_type": "stream",
          "name": "stdout",
          "text": [
            "Hello World!\n"
          ]
        }
      ],
      "source": [
        "print(\"Hello World!\") #basic print"
      ]
    },
    {
      "cell_type": "code",
      "source": [
        "cost=8000\n",
        "n=21\n",
        "c_person=255\n",
        "total=n*c_person\n",
        "profit=total-cost\n",
        "print(profit)"
      ],
      "metadata": {
        "colab": {
          "base_uri": "https://localhost:8080/"
        },
        "id": "aRxVM489bPaz",
        "outputId": "7e185246-93dd-420e-ae79-a07e3153ed75"
      },
      "execution_count": 13,
      "outputs": [
        {
          "output_type": "stream",
          "name": "stdout",
          "text": [
            "-2645\n"
          ]
        }
      ]
    },
    {
      "cell_type": "code",
      "source": [
        "#use if-else statements and print out the required information:\n",
        "num= 19\n",
        "#complete this area\n",
        "if num%4==0 and num%5==0:\n",
        "  print(\"no. is divisible by 4 and 5\")\n",
        "elif num%4==0:\n",
        "  print(\"no. is divisible by 4\")\n",
        "elif num%5==0:\n",
        "  print(\"no. is divisible by 5\")\n",
        "else:\n",
        "  print(\"no not divisible by both 4 and 5\")\n"
      ],
      "metadata": {
        "colab": {
          "base_uri": "https://localhost:8080/"
        },
        "id": "DHR3yI8WbUnb",
        "outputId": "1036af33-87d6-4dd3-dbee-f2e374bd0d3f"
      },
      "execution_count": 14,
      "outputs": [
        {
          "output_type": "stream",
          "name": "stdout",
          "text": [
            "no not divisible by both 4 and 5\n"
          ]
        }
      ]
    },
    {
      "cell_type": "code",
      "source": [
        "str=\"PROJECTIO\"\n",
        "cnt=0\n",
        "for i in str:\n",
        "  if i=='A' or i=='E' or i=='I' or i=='O' or i=='U':\n",
        "    cnt=cnt+1\n",
        "print(\"no of vowels in the string is = \",cnt)"
      ],
      "metadata": {
        "colab": {
          "base_uri": "https://localhost:8080/"
        },
        "id": "gXEnEU2HbcR1",
        "outputId": "0a818c0d-5238-4181-aa9e-dea888df5c20"
      },
      "execution_count": 6,
      "outputs": [
        {
          "output_type": "stream",
          "name": "stdout",
          "text": [
            "no of vowels in the string is =  4\n"
          ]
        }
      ]
    },
    {
      "cell_type": "code",
      "source": [
        "#Define a random list of fruits \n",
        "l=['apple','orange','pear']\n",
        "#iterate over the list and find the name of the fruit which has the smallest word length\n",
        "min=0\n",
        "for i in l:\n",
        "  x=len(i)\n",
        "  if x<min:\n",
        "    min=x\n",
        "    smallest_word=i\n",
        "print(\"the word having the smallest length is:\",i)\n",
        "# append a vegetable to your existing list\n",
        "l.append('onion')\n",
        "print(l)\n",
        "# find the size of your list\n",
        "print(\"size of the list is:\",len(l))\n",
        "# add enough fruits such that your list size if greater that 4\n",
        "l.append('pineapple')\n",
        "print(l)\n",
        "# delete the 2nd fruit(1st index) from your list:\n",
        "l.pop(1)\n",
        "print(l)\n",
        "# add your name in the 4th position of the list (3rd index)\n",
        "l.insert(3,'chethan')\n",
        "print(l)"
      ],
      "metadata": {
        "colab": {
          "base_uri": "https://localhost:8080/"
        },
        "id": "8krLQsthbyHg",
        "outputId": "715aadc0-1185-43da-94d9-0f9b57db86e4"
      },
      "execution_count": 7,
      "outputs": [
        {
          "output_type": "stream",
          "name": "stdout",
          "text": [
            "the word having the smallest length is: pear\n",
            "['apple', 'orange', 'pear', 'onion']\n",
            "size of the list is: 4\n",
            "['apple', 'orange', 'pear', 'onion', 'pineapple']\n",
            "['apple', 'pear', 'onion', 'pineapple']\n",
            "['apple', 'pear', 'onion', 'chethan', 'pineapple']\n"
          ]
        }
      ]
    },
    {
      "cell_type": "code",
      "source": [
        "#create abd tuple and print its elements \n",
        "abd=(10,20,30,40,50,'a','abcd',1.55)\n",
        "#print the type of each value in the tuple\n",
        "for i in abd:\n",
        "  print(type(i))\n",
        "#try to change the second value in your tuple to \"Caterpillar\"\n",
        "x=list(abd)\n",
        "x[1]=\"Caterpillar\"\n",
        "abd=tuple(x)\n",
        "print(abd)\n",
        "# print the last element of the tuple without using the length of the tuple\n",
        "print(abd[-1])\n",
        "\n",
        "print(abd[::-1])#prints in reverse order\n",
        "print(abd[1:])#prints from the 2nd element/or the 1st index\n",
        "print(abd[:-1])#prints all the elements except the last element(i.e.2nd parameter is the last index(which is not included)) \n",
        "print(abd[-2:])#prints from the last 2nd index till the end of the string\n",
        "print(abd[:5])#prints from 0th index to the 4th index\n",
        "x=[5,3,4,1,2]\n",
        "print(sorted(x))\n",
        "print(x)#when this statement is executed, we see that the original tuple(datatype) has not been changed\n",
        "x.sort()\n",
        "print(x)#here we see that the datatype itself has been sorted"
      ],
      "metadata": {
        "colab": {
          "base_uri": "https://localhost:8080/"
        },
        "id": "_F7xA3lcb7mU",
        "outputId": "50c4653f-7d1d-461c-a496-db1b53dbb8f4"
      },
      "execution_count": 8,
      "outputs": [
        {
          "output_type": "stream",
          "name": "stdout",
          "text": [
            "<class 'int'>\n",
            "<class 'int'>\n",
            "<class 'int'>\n",
            "<class 'int'>\n",
            "<class 'int'>\n",
            "<class 'str'>\n",
            "<class 'str'>\n",
            "<class 'float'>\n",
            "(10, 'Caterpillar', 30, 40, 50, 'a', 'abcd', 1.55)\n",
            "1.55\n",
            "(1.55, 'abcd', 'a', 50, 40, 30, 'Caterpillar', 10)\n",
            "('Caterpillar', 30, 40, 50, 'a', 'abcd', 1.55)\n",
            "(10, 'Caterpillar', 30, 40, 50, 'a', 'abcd')\n",
            "('abcd', 1.55)\n",
            "(10, 'Caterpillar', 30, 40, 50)\n",
            "[1, 2, 3, 4, 5]\n",
            "[5, 3, 4, 1, 2]\n",
            "[1, 2, 3, 4, 5]\n"
          ]
        }
      ]
    },
    {
      "cell_type": "code",
      "source": [
        "#explore the properties of set and after doing that solve this little puzzle below:"
      ],
      "metadata": {
        "id": "ktfTpeDucD1r"
      },
      "execution_count": 9,
      "outputs": []
    },
    {
      "cell_type": "code",
      "source": [
        "#solve the above problem and help ana do her work she may even hire you as her assistant!!!\n",
        "str=\"pes college is in electronic city\"\n",
        "x=set(str.split())\n",
        "print(x)"
      ],
      "metadata": {
        "colab": {
          "base_uri": "https://localhost:8080/"
        },
        "id": "F4M74umPcIJc",
        "outputId": "1277f4a6-f9bd-43dc-d51e-74a3486762a0"
      },
      "execution_count": 11,
      "outputs": [
        {
          "output_type": "stream",
          "name": "stdout",
          "text": [
            "{'city', 'college', 'in', 'pes', 'is', 'electronic'}\n"
          ]
        }
      ]
    },
    {
      "cell_type": "code",
      "source": [
        "# Python program to count the frequency of\n",
        "# elements in a list using a dictionary\n",
        " \n",
        "def CountFrequency(my_list):\n",
        " \n",
        "    # Creating an empty dictionary\n",
        "    freq = {}\n",
        "    #------fill your code here-----------------\n",
        "    for i in my_list:\n",
        "      if i in freq:\n",
        "        freq[i]+=1\n",
        "      else:\n",
        "        freq[i]=1\n",
        "    print(freq)\n",
        "# Driver function\n",
        "if __name__ == \"__main__\":\n",
        "    my_list =[1,3,22,1,4,1,2,1,4,22,19,1,19]\n",
        " \n",
        "    CountFrequency(my_list)"
      ],
      "metadata": {
        "colab": {
          "base_uri": "https://localhost:8080/"
        },
        "id": "AoMqx4SocL05",
        "outputId": "f23e1ef2-7db6-4777-fa6a-09bb594c9c25"
      },
      "execution_count": 12,
      "outputs": [
        {
          "output_type": "stream",
          "name": "stdout",
          "text": [
            "{1: 5, 3: 1, 22: 2, 4: 2, 2: 1, 19: 2}\n"
          ]
        }
      ]
    },
    {
      "cell_type": "code",
      "source": [],
      "metadata": {
        "id": "OzJWsR9scjtC"
      },
      "execution_count": null,
      "outputs": []
    }
  ]
}